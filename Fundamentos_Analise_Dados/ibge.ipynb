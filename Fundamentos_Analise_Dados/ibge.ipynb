{
 "cells": [
  {
   "cell_type": "code",
   "execution_count": 75,
   "metadata": {},
   "outputs": [],
   "source": [
    "import pandas as pd \n",
    "import plotnine as plot\n",
    "import statsmodels.formula.api as smf"
   ]
  },
  {
   "cell_type": "code",
   "execution_count": null,
   "metadata": {},
   "outputs": [],
   "source": []
  },
  {
   "cell_type": "code",
   "execution_count": 45,
   "metadata": {},
   "outputs": [],
   "source": [
    "dados=pd.read_json('https://apisidra.ibge.gov.br/values/t/1737/n1/all/v/2265/p/all/d/v2265%202')"
   ]
  },
  {
   "cell_type": "code",
   "execution_count": null,
   "metadata": {},
   "outputs": [],
   "source": [
    "dados_ipca=dados.rename(columns={'V':'ipca','D3C':'data'}).query('ipca not in [\"Valor\",\"...\"]')"
   ]
  },
  {
   "cell_type": "code",
   "execution_count": null,
   "metadata": {},
   "outputs": [],
   "source": []
  },
  {
   "cell_type": "code",
   "execution_count": 47,
   "metadata": {},
   "outputs": [
    {
     "data": {
      "text/html": [
       "<div>\n",
       "<style scoped>\n",
       "    .dataframe tbody tr th:only-of-type {\n",
       "        vertical-align: middle;\n",
       "    }\n",
       "\n",
       "    .dataframe tbody tr th {\n",
       "        vertical-align: top;\n",
       "    }\n",
       "\n",
       "    .dataframe thead th {\n",
       "        text-align: right;\n",
       "    }\n",
       "</style>\n",
       "<table border=\"1\" class=\"dataframe\">\n",
       "  <thead>\n",
       "    <tr style=\"text-align: right;\">\n",
       "      <th></th>\n",
       "      <th>NC</th>\n",
       "      <th>NN</th>\n",
       "      <th>MC</th>\n",
       "      <th>MN</th>\n",
       "      <th>ipca</th>\n",
       "      <th>D1C</th>\n",
       "      <th>D1N</th>\n",
       "      <th>D2C</th>\n",
       "      <th>D2N</th>\n",
       "      <th>data</th>\n",
       "      <th>D3N</th>\n",
       "    </tr>\n",
       "  </thead>\n",
       "  <tbody>\n",
       "    <tr>\n",
       "      <th>13</th>\n",
       "      <td>1</td>\n",
       "      <td>Brasil</td>\n",
       "      <td>2</td>\n",
       "      <td>%</td>\n",
       "      <td>99.25</td>\n",
       "      <td>1</td>\n",
       "      <td>Brasil</td>\n",
       "      <td>2265</td>\n",
       "      <td>IPCA - Variação acumulada em 12 meses</td>\n",
       "      <td>198012</td>\n",
       "      <td>dezembro 1980</td>\n",
       "    </tr>\n",
       "    <tr>\n",
       "      <th>14</th>\n",
       "      <td>1</td>\n",
       "      <td>Brasil</td>\n",
       "      <td>2</td>\n",
       "      <td>%</td>\n",
       "      <td>99.67</td>\n",
       "      <td>1</td>\n",
       "      <td>Brasil</td>\n",
       "      <td>2265</td>\n",
       "      <td>IPCA - Variação acumulada em 12 meses</td>\n",
       "      <td>198101</td>\n",
       "      <td>janeiro 1981</td>\n",
       "    </tr>\n",
       "    <tr>\n",
       "      <th>15</th>\n",
       "      <td>1</td>\n",
       "      <td>Brasil</td>\n",
       "      <td>2</td>\n",
       "      <td>%</td>\n",
       "      <td>103.07</td>\n",
       "      <td>1</td>\n",
       "      <td>Brasil</td>\n",
       "      <td>2265</td>\n",
       "      <td>IPCA - Variação acumulada em 12 meses</td>\n",
       "      <td>198102</td>\n",
       "      <td>fevereiro 1981</td>\n",
       "    </tr>\n",
       "    <tr>\n",
       "      <th>16</th>\n",
       "      <td>1</td>\n",
       "      <td>Brasil</td>\n",
       "      <td>2</td>\n",
       "      <td>%</td>\n",
       "      <td>101.03</td>\n",
       "      <td>1</td>\n",
       "      <td>Brasil</td>\n",
       "      <td>2265</td>\n",
       "      <td>IPCA - Variação acumulada em 12 meses</td>\n",
       "      <td>198103</td>\n",
       "      <td>março 1981</td>\n",
       "    </tr>\n",
       "    <tr>\n",
       "      <th>17</th>\n",
       "      <td>1</td>\n",
       "      <td>Brasil</td>\n",
       "      <td>2</td>\n",
       "      <td>%</td>\n",
       "      <td>103.27</td>\n",
       "      <td>1</td>\n",
       "      <td>Brasil</td>\n",
       "      <td>2265</td>\n",
       "      <td>IPCA - Variação acumulada em 12 meses</td>\n",
       "      <td>198104</td>\n",
       "      <td>abril 1981</td>\n",
       "    </tr>\n",
       "    <tr>\n",
       "      <th>...</th>\n",
       "      <td>...</td>\n",
       "      <td>...</td>\n",
       "      <td>...</td>\n",
       "      <td>...</td>\n",
       "      <td>...</td>\n",
       "      <td>...</td>\n",
       "      <td>...</td>\n",
       "      <td>...</td>\n",
       "      <td>...</td>\n",
       "      <td>...</td>\n",
       "      <td>...</td>\n",
       "    </tr>\n",
       "    <tr>\n",
       "      <th>535</th>\n",
       "      <td>1</td>\n",
       "      <td>Brasil</td>\n",
       "      <td>2</td>\n",
       "      <td>%</td>\n",
       "      <td>4.23</td>\n",
       "      <td>1</td>\n",
       "      <td>Brasil</td>\n",
       "      <td>2265</td>\n",
       "      <td>IPCA - Variação acumulada em 12 meses</td>\n",
       "      <td>202406</td>\n",
       "      <td>junho 2024</td>\n",
       "    </tr>\n",
       "    <tr>\n",
       "      <th>536</th>\n",
       "      <td>1</td>\n",
       "      <td>Brasil</td>\n",
       "      <td>2</td>\n",
       "      <td>%</td>\n",
       "      <td>4.50</td>\n",
       "      <td>1</td>\n",
       "      <td>Brasil</td>\n",
       "      <td>2265</td>\n",
       "      <td>IPCA - Variação acumulada em 12 meses</td>\n",
       "      <td>202407</td>\n",
       "      <td>julho 2024</td>\n",
       "    </tr>\n",
       "    <tr>\n",
       "      <th>537</th>\n",
       "      <td>1</td>\n",
       "      <td>Brasil</td>\n",
       "      <td>2</td>\n",
       "      <td>%</td>\n",
       "      <td>4.24</td>\n",
       "      <td>1</td>\n",
       "      <td>Brasil</td>\n",
       "      <td>2265</td>\n",
       "      <td>IPCA - Variação acumulada em 12 meses</td>\n",
       "      <td>202408</td>\n",
       "      <td>agosto 2024</td>\n",
       "    </tr>\n",
       "    <tr>\n",
       "      <th>538</th>\n",
       "      <td>1</td>\n",
       "      <td>Brasil</td>\n",
       "      <td>2</td>\n",
       "      <td>%</td>\n",
       "      <td>4.42</td>\n",
       "      <td>1</td>\n",
       "      <td>Brasil</td>\n",
       "      <td>2265</td>\n",
       "      <td>IPCA - Variação acumulada em 12 meses</td>\n",
       "      <td>202409</td>\n",
       "      <td>setembro 2024</td>\n",
       "    </tr>\n",
       "    <tr>\n",
       "      <th>539</th>\n",
       "      <td>1</td>\n",
       "      <td>Brasil</td>\n",
       "      <td>2</td>\n",
       "      <td>%</td>\n",
       "      <td>4.76</td>\n",
       "      <td>1</td>\n",
       "      <td>Brasil</td>\n",
       "      <td>2265</td>\n",
       "      <td>IPCA - Variação acumulada em 12 meses</td>\n",
       "      <td>202410</td>\n",
       "      <td>outubro 2024</td>\n",
       "    </tr>\n",
       "  </tbody>\n",
       "</table>\n",
       "<p>527 rows × 11 columns</p>\n",
       "</div>"
      ],
      "text/plain": [
       "    NC      NN MC MN    ipca D1C     D1N   D2C  \\\n",
       "13   1  Brasil  2  %   99.25   1  Brasil  2265   \n",
       "14   1  Brasil  2  %   99.67   1  Brasil  2265   \n",
       "15   1  Brasil  2  %  103.07   1  Brasil  2265   \n",
       "16   1  Brasil  2  %  101.03   1  Brasil  2265   \n",
       "17   1  Brasil  2  %  103.27   1  Brasil  2265   \n",
       "..  ..     ... .. ..     ...  ..     ...   ...   \n",
       "535  1  Brasil  2  %    4.23   1  Brasil  2265   \n",
       "536  1  Brasil  2  %    4.50   1  Brasil  2265   \n",
       "537  1  Brasil  2  %    4.24   1  Brasil  2265   \n",
       "538  1  Brasil  2  %    4.42   1  Brasil  2265   \n",
       "539  1  Brasil  2  %    4.76   1  Brasil  2265   \n",
       "\n",
       "                                       D2N    data             D3N  \n",
       "13   IPCA - Variação acumulada em 12 meses  198012   dezembro 1980  \n",
       "14   IPCA - Variação acumulada em 12 meses  198101    janeiro 1981  \n",
       "15   IPCA - Variação acumulada em 12 meses  198102  fevereiro 1981  \n",
       "16   IPCA - Variação acumulada em 12 meses  198103      março 1981  \n",
       "17   IPCA - Variação acumulada em 12 meses  198104      abril 1981  \n",
       "..                                     ...     ...             ...  \n",
       "535  IPCA - Variação acumulada em 12 meses  202406      junho 2024  \n",
       "536  IPCA - Variação acumulada em 12 meses  202407      julho 2024  \n",
       "537  IPCA - Variação acumulada em 12 meses  202408     agosto 2024  \n",
       "538  IPCA - Variação acumulada em 12 meses  202409   setembro 2024  \n",
       "539  IPCA - Variação acumulada em 12 meses  202410    outubro 2024  \n",
       "\n",
       "[527 rows x 11 columns]"
      ]
     },
     "execution_count": 47,
     "metadata": {},
     "output_type": "execute_result"
    }
   ],
   "source": [
    "dados_ipca"
   ]
  },
  {
   "cell_type": "code",
   "execution_count": 54,
   "metadata": {},
   "outputs": [],
   "source": [
    "dados_ipca['data']=pd.to_datetime(dados_ipca['data'],format=\"%Y%m\")"
   ]
  },
  {
   "cell_type": "code",
   "execution_count": 55,
   "metadata": {},
   "outputs": [
    {
     "data": {
      "text/html": [
       "<div>\n",
       "<style scoped>\n",
       "    .dataframe tbody tr th:only-of-type {\n",
       "        vertical-align: middle;\n",
       "    }\n",
       "\n",
       "    .dataframe tbody tr th {\n",
       "        vertical-align: top;\n",
       "    }\n",
       "\n",
       "    .dataframe thead th {\n",
       "        text-align: right;\n",
       "    }\n",
       "</style>\n",
       "<table border=\"1\" class=\"dataframe\">\n",
       "  <thead>\n",
       "    <tr style=\"text-align: right;\">\n",
       "      <th></th>\n",
       "      <th>data</th>\n",
       "      <th>ipca</th>\n",
       "    </tr>\n",
       "  </thead>\n",
       "  <tbody>\n",
       "    <tr>\n",
       "      <th>290</th>\n",
       "      <td>2004-01-01</td>\n",
       "      <td>7.71</td>\n",
       "    </tr>\n",
       "    <tr>\n",
       "      <th>291</th>\n",
       "      <td>2004-02-01</td>\n",
       "      <td>6.69</td>\n",
       "    </tr>\n",
       "    <tr>\n",
       "      <th>292</th>\n",
       "      <td>2004-03-01</td>\n",
       "      <td>5.89</td>\n",
       "    </tr>\n",
       "    <tr>\n",
       "      <th>293</th>\n",
       "      <td>2004-04-01</td>\n",
       "      <td>5.26</td>\n",
       "    </tr>\n",
       "    <tr>\n",
       "      <th>294</th>\n",
       "      <td>2004-05-01</td>\n",
       "      <td>5.15</td>\n",
       "    </tr>\n",
       "    <tr>\n",
       "      <th>...</th>\n",
       "      <td>...</td>\n",
       "      <td>...</td>\n",
       "    </tr>\n",
       "    <tr>\n",
       "      <th>535</th>\n",
       "      <td>2024-06-01</td>\n",
       "      <td>4.23</td>\n",
       "    </tr>\n",
       "    <tr>\n",
       "      <th>536</th>\n",
       "      <td>2024-07-01</td>\n",
       "      <td>4.50</td>\n",
       "    </tr>\n",
       "    <tr>\n",
       "      <th>537</th>\n",
       "      <td>2024-08-01</td>\n",
       "      <td>4.24</td>\n",
       "    </tr>\n",
       "    <tr>\n",
       "      <th>538</th>\n",
       "      <td>2024-09-01</td>\n",
       "      <td>4.42</td>\n",
       "    </tr>\n",
       "    <tr>\n",
       "      <th>539</th>\n",
       "      <td>2024-10-01</td>\n",
       "      <td>4.76</td>\n",
       "    </tr>\n",
       "  </tbody>\n",
       "</table>\n",
       "<p>250 rows × 2 columns</p>\n",
       "</div>"
      ],
      "text/plain": [
       "          data  ipca\n",
       "290 2004-01-01  7.71\n",
       "291 2004-02-01  6.69\n",
       "292 2004-03-01  5.89\n",
       "293 2004-04-01  5.26\n",
       "294 2004-05-01  5.15\n",
       "..         ...   ...\n",
       "535 2024-06-01  4.23\n",
       "536 2024-07-01  4.50\n",
       "537 2024-08-01  4.24\n",
       "538 2024-09-01  4.42\n",
       "539 2024-10-01  4.76\n",
       "\n",
       "[250 rows x 2 columns]"
      ]
     },
     "execution_count": 55,
     "metadata": {},
     "output_type": "execute_result"
    }
   ],
   "source": [
    "dados_ipca['ipca']=dados_ipca['ipca'].astype(float)\n",
    "dados_ipca=dados_ipca[['data','ipca']].query('data >= @pd.to_datetime(\"2004-01-01\")').copy()\n",
    "dados_ipca\n"
   ]
  },
  {
   "cell_type": "code",
   "execution_count": 50,
   "metadata": {},
   "outputs": [
    {
     "data": {
      "image/png": "[encoded data removed]"
     },
     "metadata": {
      "image/png": {
       "height": 480,
       "width": 640
      }
     },
     "output_type": "display_data"
    }
   ],
   "source": [
    "plot.ggplot(dados_ipca) +\\\n",
    "  plot.aes(x = 'data', y = 'ipca') +\\\n",
    "  plot.geom_line() +\\\n",
    "  plot.labs(\n",
    "    title = \"Evolução do IPCA\",\n",
    "    subtitle = \"Período: 1980-01-01 à 2024-10-01\",\n",
    "    \n",
    "    size = 16,\n",
    "    color = \"darkblue\"\n",
    "  )"
   ]
  },
  {
   "cell_type": "code",
   "execution_count": 51,
   "metadata": {},
   "outputs": [],
   "source": [
    "import plotly.express as px"
   ]
  },
  {
   "cell_type": "code",
   "execution_count": 52,
   "metadata": {},
   "outputs": [
    {
     "data": {
      "application/vnd.plotly.v1+json": {
       "config": {
        "plotlyServerURL": "https://plot.ly"
       },
       "data": [
        {
         "hovertemplate": "Data=%{x}<br>IPCA=%{y}<extra></extra>",
         "legendgroup": "",
         "line": {
          "color": "#636efa",
          "dash": "solid"
         },
         "marker": {
          "symbol": "circle"
         },
         "mode": "lines",
         "name": "",
         "orientation": "v",
         "showlegend": false,
         "type": "scatter",
         "x": [
          "1980-12-01T00:00:00",
          "1981-01-01T00:00:00",
          "1981-02-01T00:00:00",
          "1981-03-01T00:00:00",
          "1981-04-01T00:00:00",
          "1981-05-01T00:00:00",
          "1981-06-01T00:00:00",
          "1981-07-01T00:00:00",
          "1981-08-01T00:00:00",
          "1981-09-01T00:00:00",
          "1981-10-01T00:00:00",
          "1981-11-01T00:00:00",
          "1981-12-01T00:00:00",
          "1982-01-01T00:00:00",
          "1982-02-01T00:00:00",
          "1982-03-01T00:00:00",
          "1982-04-01T00:00:00",
          "1982-05-01T00:00:00",
          "1982-06-01T00:00:00",
          "1982-07-01T00:00:00",
          "1982-08-01T00:00:00",
          "1982-09-01T00:00:00",
          "1982-10-01T00:00:00",
          "1982-11-01T00:00:00",
          "1982-12-01T00:00:00",
          "1983-01-01T00:00:00",
          "1983-02-01T00:00:00",
          "1983-03-01T00:00:00",
          "1983-04-01T00:00:00",
          "1983-05-01T00:00:00",
          "1983-06-01T00:00:00",
          "1983-07-01T00:00:00",
          "1983-08-01T00:00:00",
          "1983-09-01T00:00:00",
          "1983-10-01T00:00:00",
          "1983-11-01T00:00:00",
          "1983-12-01T00:00:00",
          "1984-01-01T00:00:00",
          "1984-02-01T00:00:00",
          "1984-03-01T00:00:00",
          "1984-04-01T00:00:00",
          "1984-05-01T00:00:00",
          "1984-06-01T00:00:00",
          "1984-07-01T00:00:00",
          "1984-08-01T00:00:00",
          "1984-09-01T00:00:00",
          "1984-10-01T00:00:00",
          "1984-11-01T00:00:00",
          "1984-12-01T00:00:00",
          "1985-01-01T00:00:00",
          "1985-02-01T00:00:00",
          "1985-03-01T00:00:00",
          "1985-04-01T00:00:00",
          "1985-05-01T00:00:00",
          "1985-06-01T00:00:00",
          "1985-07-01T00:00:00",
          "1985-08-01T00:00:00",
          "1985-09-01T00:00:00",
          "1985-10-01T00:00:00",
          "1985-11-01T00:00:00",
          "1985-12-01T00:00:00",
          "1986-01-01T00:00:00",
          "1986-02-01T00:00:00",
          "1986-03-01T00:00:00",
          "1986-04-01T00:00:00",
          "1986-05-01T00:00:00",
          "1986-06-01T00:00:00",
          "1986-07-01T00:00:00",
          "1986-08-01T00:00:00",
          "1986-09-01T00:00:00",
          "1986-10-01T00:00:00",
          "1986-11-01T00:00:00",
          "1986-12-01T00:00:00",
          "1987-01-01T00:00:00",
          "1987-02-01T00:00:00",
          "1987-03-01T00:00:00",
          "1987-04-01T00:00:00",
          "1987-05-01T00:00:00",
          "1987-06-01T00:00:00",
          "1987-07-01T00:00:00",
          "1987-08-01T00:00:00",
          "1987-09-01T00:00:00",
          "1987-10-01T00:00:00",
          "1987-11-01T00:00:00",
          "1987-12-01T00:00:00",
          "1988-01-01T00:00:00",
          "1988-02-01T00:00:00",
          "1988-03-01T00:00:00",
          "1988-04-01T00:00:00",
          "1988-05-01T00:00:00",
          "1988-06-01T00:00:00",
          "1988-07-01T00:00:00",
          "1988-08-01T00:00:00",
          "1988-09-01T00:00:00",
          "1988-10-01T00:00:00",
          "1988-11-01T00:00:00",
          "1988-12-01T00:00:00",
          "1989-01-01T00:00:00",
          "1989-02-01T00:00:00",
          "1989-03-01T00:00:00",
          "1989-04-01T00:00:00",
          "1989-05-01T00:00:00",
          "1989-06-01T00:00:00",
          "1989-07-01T00:00:00",
          "1989-08-01T00:00:00",
          "1989-09-01T00:00:00",
          "1989-10-01T00:00:00",
          "1989-11-01T00:00:00",
          "1989-12-01T00:00:00",
          "1990-01-01T00:00:00",
          "1990-02-01T00:00:00",
          "1990-03-01T00:00:00",
          "1990-04-01T00:00:00",
          "1990-05-01T00:00:00",
          "1990-06-01T00:00:00",
          "1990-07-01T00:00:00",
          "1990-08-01T00:00:00",
          "1990-09-01T00:00:00",
          "1990-10-01T00:00:00",
          "1990-11-01T00:00:00",
          "1990-12-01T00:00:00",
          "1991-01-01T00:00:00",
          "1991-02-01T00:00:00",
          "1991-03-01T00:00:00",
          "1991-04-01T00:00:00",
          "1991-05-01T00:00:00",
          "1991-06-01T00:00:00",
          "1991-07-01T00:00:00",
          "1991-08-01T00:00:00",
          "1991-09-01T00:00:00",
          "1991-10-01T00:00:00",
          "1991-11-01T00:00:00",
          "1991-12-01T00:00:00",
          "1992-01-01T00:00:00",
          "1992-02-01T00:00:00",
          "1992-03-01T00:00:00",
          "1992-04-01T00:00:00",
          "1992-05-01T00:00:00",
          "1992-06-01T00:00:00",
          "1992-07-01T00:00:00",
          "1992-08-01T00:00:00",
          "1992-09-01T00:00:00",
          "1992-10-01T00:00:00",
          "1992-11-01T00:00:00",
          "1992-12-01T00:00:00",
          "1993-01-01T00:00:00",
          "1993-02-01T00:00:00",
          "1993-03-01T00:00:00",
          "1993-04-01T00:00:00",
          "1993-05-01T00:00:00",
          "1993-06-01T00:00:00",
          "1993-07-01T00:00:00",
          "1993-08-01T00:00:00",
          "1993-09-01T00:00:00",
          "1993-10-01T00:00:00",
          "1993-11-01T00:00:00",
          "1993-12-01T00:00:00",
          "1994-01-01T00:00:00",
          "1994-02-01T00:00:00",
          "1994-03-01T00:00:00",
          "1994-04-01T00:00:00",
          "1994-05-01T00:00:00",
          "1994-06-01T00:00:00",
          "1994-07-01T00:00:00",
          "1994-08-01T00:00:00",
          "1994-09-01T00:00:00",
          "1994-10-01T00:00:00",
          "1994-11-01T00:00:00",
          "1994-12-01T00:00:00",
          "1995-01-01T00:00:00",
          "1995-02-01T00:00:00",
          "1995-03-01T00:00:00",
          "1995-04-01T00:00:00",
          "1995-05-01T00:00:00",
          "1995-06-01T00:00:00",
          "1995-07-01T00:00:00",
          "1995-08-01T00:00:00",
          "1995-09-01T00:00:00",
          "1995-10-01T00:00:00",
          "1995-11-01T00:00:00",
          "1995-12-01T00:00:00",
          "1996-01-01T00:00:00",
          "1996-02-01T00:00:00",
          "1996-03-01T00:00:00",
          "1996-04-01T00:00:00",
          "1996-05-01T00:00:00",
          "1996-06-01T00:00:00",
          "1996-07-01T00:00:00",
          "1996-08-01T00:00:00",
          "1996-09-01T00:00:00",
          "1996-10-01T00:00:00",
          "1996-11-01T00:00:00",
          "1996-12-01T00:00:00",
          "1997-01-01T00:00:00",
          "1997-02-01T00:00:00",
          "1997-03-01T00:00:00",
          "1997-04-01T00:00:00",
          "1997-05-01T00:00:00",
          "1997-06-01T00:00:00",
          "1997-07-01T00:00:00",
          "1997-08-01T00:00:00",
          "1997-09-01T00:00:00",
          "1997-10-01T00:00:00",
          "1997-11-01T00:00:00",
          "1997-12-01T00:00:00",
          "1998-01-01T00:00:00",
          "1998-02-01T00:00:00",
          "1998-03-01T00:00:00",
          "1998-04-01T00:00:00",
          "1998-05-01T00:00:00",
          "1998-06-01T00:00:00",
          "1998-07-01T00:00:00",
          "1998-08-01T00:00:00",
          "1998-09-01T00:00:00",
          "1998-10-01T00:00:00",
          "1998-11-01T00:00:00",
          "1998-12-01T00:00:00",
          "1999-01-01T00:00:00",
          "1999-02-01T00:00:00",
          "1999-03-01T00:00:00",
          "1999-04-01T00:00:00",
          "1999-05-01T00:00:00",
          "1999-06-01T00:00:00",
          "1999-07-01T00:00:00",
          "1999-08-01T00:00:00",
          "1999-09-01T00:00:00",
          "1999-10-01T00:00:00",
          "1999-11-01T00:00:00",
          "1999-12-01T00:00:00",
          "2000-01-01T00:00:00",
          "2000-02-01T00:00:00",
          "2000-03-01T00:00:00",
          "2000-04-01T00:00:00",
          "2000-05-01T00:00:00",
          "2000-06-01T00:00:00",
          "2000-07-01T00:00:00",
          "2000-08-01T00:00:00",
          "2000-09-01T00:00:00",
          "2000-10-01T00:00:00",
          "2000-11-01T00:00:00",
          "2000-12-01T00:00:00",
          "2001-01-01T00:00:00",
          "2001-02-01T00:00:00",
          "2001-03-01T00:00:00",
          "2001-04-01T00:00:00",
          "2001-05-01T00:00:00",
          "2001-06-01T00:00:00",
          "2001-07-01T00:00:00",
          "2001-08-01T00:00:00",
          "2001-09-01T00:00:00",
          "2001-10-01T00:00:00",
          "2001-11-01T00:00:00",
          "2001-12-01T00:00:00",
          "2002-01-01T00:00:00",
          "2002-02-01T00:00:00",
          "2002-03-01T00:00:00",
          "2002-04-01T00:00:00",
          "2002-05-01T00:00:00",
          "2002-06-01T00:00:00",
          "2002-07-01T00:00:00",
          "2002-08-01T00:00:00",
          "2002-09-01T00:00:00",
          "2002-10-01T00:00:00",
          "2002-11-01T00:00:00",
          "2002-12-01T00:00:00",
          "2003-01-01T00:00:00",
          "2003-02-01T00:00:00",
          "2003-03-01T00:00:00",
          "2003-04-01T00:00:00",
          "2003-05-01T00:00:00",
          "2003-06-01T00:00:00",
          "2003-07-01T00:00:00",
          "2003-08-01T00:00:00",
          "2003-09-01T00:00:00",
          "2003-10-01T00:00:00",
          "2003-11-01T00:00:00",
          "2003-12-01T00:00:00",
          "2004-01-01T00:00:00",
          "2004-02-01T00:00:00",
          "2004-03-01T00:00:00",
          "2004-04-01T00:00:00",
          "2004-05-01T00:00:00",
          "2004-06-01T00:00:00",
          "2004-07-01T00:00:00",
          "2004-08-01T00:00:00",
          "2004-09-01T00:00:00",
          "2004-10-01T00:00:00",
          "2004-11-01T00:00:00",
          "2004-12-01T00:00:00",
          "2005-01-01T00:00:00",
          "2005-02-01T00:00:00",
          "2005-03-01T00:00:00",
          "2005-04-01T00:00:00",
          "2005-05-01T00:00:00",
          "2005-06-01T00:00:00",
          "2005-07-01T00:00:00",
          "2005-08-01T00:00:00",
          "2005-09-01T00:00:00",
          "2005-10-01T00:00:00",
          "2005-11-01T00:00:00",
          "2005-12-01T00:00:00",
          "2006-01-01T00:00:00",
          "2006-02-01T00:00:00",
          "2006-03-01T00:00:00",
          "2006-04-01T00:00:00",
          "2006-05-01T00:00:00",
          "2006-06-01T00:00:00",
          "2006-07-01T00:00:00",
          "2006-08-01T00:00:00",
          "2006-09-01T00:00:00",
          "2006-10-01T00:00:00",
          "2006-11-01T00:00:00",
          "2006-12-01T00:00:00",
          "2007-01-01T00:00:00",
          "2007-02-01T00:00:00",
          "2007-03-01T00:00:00",
          "2007-04-01T00:00:00",
          "2007-05-01T00:00:00",
          "2007-06-01T00:00:00",
          "2007-07-01T00:00:00",
          "2007-08-01T00:00:00",
          "2007-09-01T00:00:00",
          "2007-10-01T00:00:00",
          "2007-11-01T00:00:00",
          "2007-12-01T00:00:00",
          "2008-01-01T00:00:00",
          "2008-02-01T00:00:00",
          "2008-03-01T00:00:00",
          "2008-04-01T00:00:00",
          "2008-05-01T00:00:00",
          "2008-06-01T00:00:00",
          "2008-07-01T00:00:00",
          "2008-08-01T00:00:00",
          "2008-09-01T00:00:00",
          "2008-10-01T00:00:00",
          "2008-11-01T00:00:00",
          "2008-12-01T00:00:00",
          "2009-01-01T00:00:00",
          "2009-02-01T00:00:00",
          "2009-03-01T00:00:00",
          "2009-04-01T00:00:00",
          "2009-05-01T00:00:00",
          "2009-06-01T00:00:00",
          "2009-07-01T00:00:00",
          "2009-08-01T00:00:00",
          "2009-09-01T00:00:00",
          "2009-10-01T00:00:00",
          "2009-11-01T00:00:00",
          "2009-12-01T00:00:00",
          "2010-01-01T00:00:00",
          "2010-02-01T00:00:00",
          "2010-03-01T00:00:00",
          "2010-04-01T00:00:00",
          "2010-05-01T00:00:00",
          "2010-06-01T00:00:00",
          "2010-07-01T00:00:00",
          "2010-08-01T00:00:00",
          "2010-09-01T00:00:00",
          "2010-10-01T00:00:00",
          "2010-11-01T00:00:00",
          "2010-12-01T00:00:00",
          "2011-01-01T00:00:00",
          "2011-02-01T00:00:00",
          "2011-03-01T00:00:00",
          "2011-04-01T00:00:00",
          "2011-05-01T00:00:00",
          "2011-06-01T00:00:00",
          "2011-07-01T00:00:00",
          "2011-08-01T00:00:00",
          "2011-09-01T00:00:00",
          "2011-10-01T00:00:00",
          "2011-11-01T00:00:00",
          "2011-12-01T00:00:00",
          "2012-01-01T00:00:00",
          "2012-02-01T00:00:00",
          "2012-03-01T00:00:00",
          "2012-04-01T00:00:00",
          "2012-05-01T00:00:00",
          "2012-06-01T00:00:00",
          "2012-07-01T00:00:00",
          "2012-08-01T00:00:00",
          "2012-09-01T00:00:00",
          "2012-10-01T00:00:00",
          "2012-11-01T00:00:00",
          "2012-12-01T00:00:00",
          "2013-01-01T00:00:00",
          "2013-02-01T00:00:00",
          "2013-03-01T00:00:00",
          "2013-04-01T00:00:00",
          "2013-05-01T00:00:00",
          "2013-06-01T00:00:00",
          "2013-07-01T00:00:00",
          "2013-08-01T00:00:00",
          "2013-09-01T00:00:00",
          "2013-10-01T00:00:00",
          "2013-11-01T00:00:00",
          "2013-12-01T00:00:00",
          "2014-01-01T00:00:00",
          "2014-02-01T00:00:00",
          "2014-03-01T00:00:00",
          "2014-04-01T00:00:00",
          "2014-05-01T00:00:00",
          "2014-06-01T00:00:00",
          "2014-07-01T00:00:00",
          "2014-08-01T00:00:00",
          "2014-09-01T00:00:00",
          "2014-10-01T00:00:00",
          "2014-11-01T00:00:00",
          "2014-12-01T00:00:00",
          "2015-01-01T00:00:00",
          "2015-02-01T00:00:00",
          "2015-03-01T00:00:00",
          "2015-04-01T00:00:00",
          "2015-05-01T00:00:00",
          "2015-06-01T00:00:00",
          "2015-07-01T00:00:00",
          "2015-08-01T00:00:00",
          "2015-09-01T00:00:00",
          "2015-10-01T00:00:00",
          "2015-11-01T00:00:00",
          "2015-12-01T00:00:00",
          "2016-01-01T00:00:00",
          "2016-02-01T00:00:00",
          "2016-03-01T00:00:00",
          "2016-04-01T00:00:00",
          "2016-05-01T00:00:00",
          "2016-06-01T00:00:00",
          "2016-07-01T00:00:00",
          "2016-08-01T00:00:00",
          "2016-09-01T00:00:00",
          "2016-10-01T00:00:00",
          "2016-11-01T00:00:00",
          "2016-12-01T00:00:00",
          "2017-01-01T00:00:00",
          "2017-02-01T00:00:00",
          "2017-03-01T00:00:00",
          "2017-04-01T00:00:00",
          "2017-05-01T00:00:00",
          "2017-06-01T00:00:00",
          "2017-07-01T00:00:00",
          "2017-08-01T00:00:00",
          "2017-09-01T00:00:00",
          "2017-10-01T00:00:00",
          "2017-11-01T00:00:00",
          "2017-12-01T00:00:00",
          "2018-01-01T00:00:00",
          "2018-02-01T00:00:00",
          "2018-03-01T00:00:00",
          "2018-04-01T00:00:00",
          "2018-05-01T00:00:00",
          "2018-06-01T00:00:00",
          "2018-07-01T00:00:00",
          "2018-08-01T00:00:00",
          "2018-09-01T00:00:00",
          "2018-10-01T00:00:00",
          "2018-11-01T00:00:00",
          "2018-12-01T00:00:00",
          "2019-01-01T00:00:00",
          "2019-02-01T00:00:00",
          "2019-03-01T00:00:00",
          "2019-04-01T00:00:00",
          "2019-05-01T00:00:00",
          "2019-06-01T00:00:00",
          "2019-07-01T00:00:00",
          "2019-08-01T00:00:00",
          "2019-09-01T00:00:00",
          "2019-10-01T00:00:00",
          "2019-11-01T00:00:00",
          "2019-12-01T00:00:00",
          "2020-01-01T00:00:00",
          "2020-02-01T00:00:00",
          "2020-03-01T00:00:00",
          "2020-04-01T00:00:00",
          "2020-05-01T00:00:00",
          "2020-06-01T00:00:00",
          "2020-07-01T00:00:00",
          "2020-08-01T00:00:00",
          "2020-09-01T00:00:00",
          "2020-10-01T00:00:00",
          "2020-11-01T00:00:00",
          "2020-12-01T00:00:00",
          "2021-01-01T00:00:00",
          "2021-02-01T00:00:00",
          "2021-03-01T00:00:00",
          "2021-04-01T00:00:00",
          "2021-05-01T00:00:00",
          "2021-06-01T00:00:00",
          "2021-07-01T00:00:00",
          "2021-08-01T00:00:00",
          "2021-09-01T00:00:00",
          "2021-10-01T00:00:00",
          "2021-11-01T00:00:00",
          "2021-12-01T00:00:00",
          "2022-01-01T00:00:00",
          "2022-02-01T00:00:00",
          "2022-03-01T00:00:00",
          "2022-04-01T00:00:00",
          "2022-05-01T00:00:00",
          "2022-06-01T00:00:00",
          "2022-07-01T00:00:00",
          "2022-08-01T00:00:00",
          "2022-09-01T00:00:00",
          "2022-10-01T00:00:00",
          "2022-11-01T00:00:00",
          "2022-12-01T00:00:00",
          "2023-01-01T00:00:00",
          "2023-02-01T00:00:00",
          "2023-03-01T00:00:00",
          "2023-04-01T00:00:00",
          "2023-05-01T00:00:00",
          "2023-06-01T00:00:00",
          "2023-07-01T00:00:00",
          "2023-08-01T00:00:00",
          "2023-09-01T00:00:00",
          "2023-10-01T00:00:00",
          "2023-11-01T00:00:00",
          "2023-12-01T00:00:00",
          "2024-01-01T00:00:00",
          "2024-02-01T00:00:00",
          "2024-03-01T00:00:00",
          "2024-04-01T00:00:00",
          "2024-05-01T00:00:00",
          "2024-06-01T00:00:00",
          "2024-07-01T00:00:00",
          "2024-08-01T00:00:00",
          "2024-09-01T00:00:00",
          "2024-10-01T00:00:00"
         ],
         "xaxis": "x",
         "y": [
          99.25,
          99.67,
          103.07,
          101.03,
          103.27,
          103,
          103.41,
          104.78,
          105.85,
          107.88,
          99.52,
          96.89,
          95.62,
          95.86,
          96.29,
          97.68,
          96.61,
          98.65,
          101.64,
          101.84,
          102.75,
          102.41,
          101.19,
          101.22,
          104.79,
          108,
          110.38,
          113.63,
          115.03,
          114.67,
          120.24,
          127.94,
          134.69,
          146.35,
          156.78,
          161.9,
          164.01,
          166.51,
          170.57,
          174.59,
          182.22,
          189.03,
          189.55,
          188.62,
          189.25,
          193.05,
          197.27,
          205.97,
          215.26,
          221.27,
          225.28,
          228.93,
          224.88,
          219.36,
          214.76,
          216.44,
          224.26,
          222.43,
          222.95,
          233.02,
          242.23,
          250.23,
          256.08,
          238.65,
          215.44,
          198.38,
          178.52,
          156.8,
          137.33,
          117.25,
          100.13,
          85.17,
          79.66,
          77.84,
          77.71,
          97.39,
          133.27,
          179.4,
          230.27,
          254.63,
          259.14,
          280.55,
          315.35,
          353.27,
          363.41,
          386.67,
          399.9,
          405.18,
          405.99,
          389.19,
          398.54,
          456.52,
          545.24,
          662.99,
          761.78,
          858.09,
          980.21,
          1149.22,
          1160.88,
          1045.29,
          940.07,
          944.5,
          1001.44,
          1054.11,
          1169.15,
          1269.82,
          1424.12,
          1660.95,
          1972.91,
          2426.12,
          3701.29,
          6390.53,
          6821.31,
          6214.99,
          5385.43,
          4749.03,
          3993.62,
          3304.71,
          2685.74,
          2101.34,
          1620.97,
          1140.27,
          752.02,
          422.84,
          375.18,
          374.48,
          372.1,
          369.96,
          381.41,
          386.55,
          411.52,
          448.31,
          472.7,
          497.32,
          515.13,
          567.21,
          662.16,
          785.81,
          857.68,
          937.94,
          996.37,
          1081.7,
          1130.94,
          1104.2,
          1119.1,
          1161.79,
          1168.49,
          1229.71,
          1316.42,
          1348.52,
          1467.33,
          1581.7,
          1730.67,
          1893.13,
          2031.27,
          2258.68,
          2477.15,
          2693.84,
          3035.71,
          3417.39,
          3828.49,
          4331.19,
          4922.6,
          4005.08,
          3044.89,
          2253.15,
          1703.17,
          1267.54,
          916.46,
          631.54,
          426.83,
          274.78,
          169.05,
          91.79,
          33.03,
          27.45,
          26.36,
          25.69,
          24.21,
          22.59,
          22.41,
          21.97,
          21.99,
          20.55,
          19.17,
          17.49,
          16.26,
          14.84,
          14.21,
          13.26,
          12.02,
          10.75,
          9.56,
          9.39,
          8.82,
          8.99,
          8.58,
          7.71,
          7.02,
          6.08,
          5.59,
          5.5,
          5.42,
          5.27,
          5.22,
          4.73,
          4.69,
          4.52,
          3.85,
          3.95,
          3.41,
          3.06,
          2.55,
          2.27,
          2.05,
          1.76,
          1.65,
          1.65,
          2.24,
          3.02,
          3.35,
          3.14,
          3.32,
          4.57,
          5.69,
          6.25,
          7.5,
          8.65,
          8.94,
          8.85,
          7.86,
          6.92,
          6.77,
          6.47,
          6.51,
          7.06,
          7.86,
          7.77,
          6.65,
          5.99,
          5.97,
          5.92,
          6.27,
          6.44,
          6.61,
          7.04,
          7.35,
          7.05,
          6.41,
          6.46,
          7.19,
          7.61,
          7.67,
          7.62,
          7.51,
          7.75,
          7.98,
          7.77,
          7.66,
          7.51,
          7.46,
          7.93,
          8.45,
          10.93,
          12.53,
          14.47,
          15.85,
          16.57,
          16.77,
          17.24,
          16.57,
          15.43,
          15.07,
          15.14,
          13.98,
          11.02,
          9.3,
          7.71,
          6.69,
          5.89,
          5.26,
          5.15,
          6.06,
          6.81,
          7.18,
          6.7,
          6.86,
          7.24,
          7.6,
          7.41,
          7.39,
          7.54,
          8.07,
          8.05,
          7.27,
          6.57,
          6.02,
          6.04,
          6.36,
          6.22,
          5.69,
          5.7,
          5.51,
          5.32,
          4.63,
          4.23,
          4.03,
          3.97,
          3.84,
          3.7,
          3.26,
          3.02,
          3.14,
          2.99,
          3.02,
          2.96,
          3,
          3.18,
          3.69,
          3.74,
          4.18,
          4.15,
          4.12,
          4.19,
          4.46,
          4.56,
          4.61,
          4.73,
          5.04,
          5.58,
          6.06,
          6.37,
          6.17,
          6.25,
          6.41,
          6.39,
          5.9,
          5.84,
          5.9,
          5.61,
          5.53,
          5.2,
          4.8,
          4.5,
          4.36,
          4.34,
          4.17,
          4.22,
          4.31,
          4.59,
          4.83,
          5.17,
          5.26,
          5.22,
          4.84,
          4.6,
          4.49,
          4.7,
          5.2,
          5.63,
          5.91,
          5.99,
          6.01,
          6.3,
          6.51,
          6.55,
          6.71,
          6.87,
          7.23,
          7.31,
          6.97,
          6.64,
          6.5,
          6.22,
          5.84,
          5.24,
          5.1,
          4.99,
          4.92,
          5.2,
          5.24,
          5.28,
          5.45,
          5.53,
          5.84,
          6.15,
          6.31,
          6.59,
          6.49,
          6.5,
          6.7,
          6.27,
          6.09,
          5.86,
          5.84,
          5.77,
          5.91,
          5.59,
          5.68,
          6.15,
          6.28,
          6.37,
          6.52,
          6.5,
          6.51,
          6.75,
          6.59,
          6.56,
          6.41,
          7.14,
          7.7,
          8.13,
          8.17,
          8.47,
          8.89,
          9.56,
          9.53,
          9.49,
          9.93,
          10.48,
          10.67,
          10.71,
          10.36,
          9.39,
          9.28,
          9.32,
          8.84,
          8.74,
          8.97,
          8.48,
          7.87,
          6.99,
          6.29,
          5.35,
          4.76,
          4.57,
          4.08,
          3.6,
          3,
          2.71,
          2.46,
          2.54,
          2.7,
          2.8,
          2.95,
          2.86,
          2.84,
          2.68,
          2.76,
          2.86,
          4.39,
          4.48,
          4.19,
          4.53,
          4.56,
          4.05,
          3.75,
          3.78,
          3.89,
          4.58,
          4.94,
          4.66,
          3.37,
          3.22,
          3.43,
          2.89,
          2.54,
          3.27,
          4.31,
          4.19,
          4.01,
          3.3,
          2.4,
          1.88,
          2.13,
          2.31,
          2.44,
          3.14,
          3.92,
          4.31,
          4.52,
          4.56,
          5.2,
          6.1,
          6.76,
          8.06,
          8.35,
          8.99,
          9.68,
          10.25,
          10.67,
          10.74,
          10.06,
          10.38,
          10.54,
          11.3,
          12.13,
          11.73,
          11.89,
          10.07,
          8.73,
          7.17,
          6.47,
          5.9,
          5.79,
          5.77,
          5.6,
          4.65,
          4.18,
          3.94,
          3.16,
          3.99,
          4.61,
          5.19,
          4.82,
          4.68,
          4.62,
          4.51,
          4.5,
          3.93,
          3.69,
          3.93,
          4.23,
          4.5,
          4.24,
          4.42,
          4.76
         ],
         "yaxis": "y"
        }
       ],
       "layout": {
        "legend": {
         "tracegroupgap": 0
        },
        "template": {
         "data": {
          "bar": [
           {
            "error_x": {
             "color": "#2a3f5f"
            },
            "error_y": {
             "color": "#2a3f5f"
            },
            "marker": {
             "line": {
              "color": "#E5ECF6",
              "width": 0.5
             },
             "pattern": {
              "fillmode": "overlay",
              "size": 10,
              "solidity": 0.2
             }
            },
            "type": "bar"
           }
          ],
          "barpolar": [
           {
            "marker": {
             "line": {
              "color": "#E5ECF6",
              "width": 0.5
             },
             "pattern": {
              "fillmode": "overlay",
              "size": 10,
              "solidity": 0.2
             }
            },
            "type": "barpolar"
           }
          ],
          "carpet": [
           {
            "aaxis": {
             "endlinecolor": "#2a3f5f",
             "gridcolor": "white",
             "linecolor": "white",
             "minorgridcolor": "white",
             "startlinecolor": "#2a3f5f"
            },
            "baxis": {
             "endlinecolor": "#2a3f5f",
             "gridcolor": "white",
             "linecolor": "white",
             "minorgridcolor": "white",
             "startlinecolor": "#2a3f5f"
            },
            "type": "carpet"
           }
          ],
          "choropleth": [
           {
            "colorbar": {
             "outlinewidth": 0,
             "ticks": ""
            },
            "type": "choropleth"
           }
          ],
          "contour": [
           {
            "colorbar": {
             "outlinewidth": 0,
             "ticks": ""
            },
            "colorscale": [
             [
              0,
              "#0d0887"
             ],
             [
              0.1111111111111111,
              "#46039f"
             ],
             [
              0.2222222222222222,
              "#7201a8"
             ],
             [
              0.3333333333333333,
              "#9c179e"
             ],
             [
              0.4444444444444444,
              "#bd3786"
             ],
             [
              0.5555555555555556,
              "#d8576b"
             ],
             [
              0.6666666666666666,
              "#ed7953"
             ],
             [
              0.7777777777777778,
              "#fb9f3a"
             ],
             [
              0.8888888888888888,
              "#fdca26"
             ],
             [
              1,
              "#f0f921"
             ]
            ],
            "type": "contour"
           }
          ],
          "contourcarpet": [
           {
            "colorbar": {
             "outlinewidth": 0,
             "ticks": ""
            },
            "type": "contourcarpet"
           }
          ],
          "heatmap": [
           {
            "colorbar": {
             "outlinewidth": 0,
             "ticks": ""
            },
            "colorscale": [
             [
              0,
              "#0d0887"
             ],
             [
              0.1111111111111111,
              "#46039f"
             ],
             [
              0.2222222222222222,
              "#7201a8"
             ],
             [
              0.3333333333333333,
              "#9c179e"
             ],
             [
              0.4444444444444444,
              "#bd3786"
             ],
             [
              0.5555555555555556,
              "#d8576b"
             ],
             [
              0.6666666666666666,
              "#ed7953"
             ],
             [
              0.7777777777777778,
              "#fb9f3a"
             ],
             [
              0.8888888888888888,
              "#fdca26"
             ],
             [
              1,
              "#f0f921"
             ]
            ],
            "type": "heatmap"
           }
          ],
          "heatmapgl": [
           {
            "colorbar": {
             "outlinewidth": 0,
             "ticks": ""
            },
            "colorscale": [
             [
              0,
              "#0d0887"
             ],
             [
              0.1111111111111111,
              "#46039f"
             ],
             [
              0.2222222222222222,
              "#7201a8"
             ],
             [
              0.3333333333333333,
              "#9c179e"
             ],
             [
              0.4444444444444444,
              "#bd3786"
             ],
             [
              0.5555555555555556,
              "#d8576b"
             ],
             [
              0.6666666666666666,
              "#ed7953"
             ],
             [
              0.7777777777777778,
              "#fb9f3a"
             ],
             [
              0.8888888888888888,
              "#fdca26"
             ],
             [
              1,
              "#f0f921"
             ]
            ],
            "type": "heatmapgl"
           }
          ],
          "histogram": [
           {
            "marker": {
             "pattern": {
              "fillmode": "overlay",
              "size": 10,
              "solidity": 0.2
             }
            },
            "type": "histogram"
           }
          ],
          "histogram2d": [
           {
            "colorbar": {
             "outlinewidth": 0,
             "ticks": ""
            },
            "colorscale": [
             [
              0,
              "#0d0887"
             ],
             [
              0.1111111111111111,
              "#46039f"
             ],
             [
              0.2222222222222222,
              "#7201a8"
             ],
             [
              0.3333333333333333,
              "#9c179e"
             ],
             [
              0.4444444444444444,
              "#bd3786"
             ],
             [
              0.5555555555555556,
              "#d8576b"
             ],
             [
              0.6666666666666666,
              "#ed7953"
             ],
             [
              0.7777777777777778,
              "#fb9f3a"
             ],
             [
              0.8888888888888888,
              "#fdca26"
             ],
             [
              1,
              "#f0f921"
             ]
            ],
            "type": "histogram2d"
           }
          ],
          "histogram2dcontour": [
           {
            "colorbar": {
             "outlinewidth": 0,
             "ticks": ""
            },
            "colorscale": [
             [
              0,
              "#0d0887"
             ],
             [
              0.1111111111111111,
              "#46039f"
             ],
             [
              0.2222222222222222,
              "#7201a8"
             ],
             [
              0.3333333333333333,
              "#9c179e"
             ],
             [
              0.4444444444444444,
              "#bd3786"
             ],
             [
              0.5555555555555556,
              "#d8576b"
             ],
             [
              0.6666666666666666,
              "#ed7953"
             ],
             [
              0.7777777777777778,
              "#fb9f3a"
             ],
             [
              0.8888888888888888,
              "#fdca26"
             ],
             [
              1,
              "#f0f921"
             ]
            ],
            "type": "histogram2dcontour"
           }
          ],
          "mesh3d": [
           {
            "colorbar": {
             "outlinewidth": 0,
             "ticks": ""
            },
            "type": "mesh3d"
           }
          ],
          "parcoords": [
           {
            "line": {
             "colorbar": {
              "outlinewidth": 0,
              "ticks": ""
             }
            },
            "type": "parcoords"
           }
          ],
          "pie": [
           {
            "automargin": true,
            "type": "pie"
           }
          ],
          "scatter": [
           {
            "fillpattern": {
             "fillmode": "overlay",
             "size": 10,
             "solidity": 0.2
            },
            "type": "scatter"
           }
          ],
          "scatter3d": [
           {
            "line": {
             "colorbar": {
              "outlinewidth": 0,
              "ticks": ""
             }
            },
            "marker": {
             "colorbar": {
              "outlinewidth": 0,
              "ticks": ""
             }
            },
            "type": "scatter3d"
           }
          ],
          "scattercarpet": [
           {
            "marker": {
             "colorbar": {
              "outlinewidth": 0,
              "ticks": ""
             }
            },
            "type": "scattercarpet"
           }
          ],
          "scattergeo": [
           {
            "marker": {
             "colorbar": {
              "outlinewidth": 0,
              "ticks": ""
             }
            },
            "type": "scattergeo"
           }
          ],
          "scattergl": [
           {
            "marker": {
             "colorbar": {
              "outlinewidth": 0,
              "ticks": ""
             }
            },
            "type": "scattergl"
           }
          ],
          "scattermapbox": [
           {
            "marker": {
             "colorbar": {
              "outlinewidth": 0,
              "ticks": ""
             }
            },
            "type": "scattermapbox"
           }
          ],
          "scatterpolar": [
           {
            "marker": {
             "colorbar": {
              "outlinewidth": 0,
              "ticks": ""
             }
            },
            "type": "scatterpolar"
           }
          ],
          "scatterpolargl": [
           {
            "marker": {
             "colorbar": {
              "outlinewidth": 0,
              "ticks": ""
             }
            },
            "type": "scatterpolargl"
           }
          ],
          "scatterternary": [
           {
            "marker": {
             "colorbar": {
              "outlinewidth": 0,
              "ticks": ""
             }
            },
            "type": "scatterternary"
           }
          ],
          "surface": [
           {
            "colorbar": {
             "outlinewidth": 0,
             "ticks": ""
            },
            "colorscale": [
             [
              0,
              "#0d0887"
             ],
             [
              0.1111111111111111,
              "#46039f"
             ],
             [
              0.2222222222222222,
              "#7201a8"
             ],
             [
              0.3333333333333333,
              "#9c179e"
             ],
             [
              0.4444444444444444,
              "#bd3786"
             ],
             [
              0.5555555555555556,
              "#d8576b"
             ],
             [
              0.6666666666666666,
              "#ed7953"
             ],
             [
              0.7777777777777778,
              "#fb9f3a"
             ],
             [
              0.8888888888888888,
              "#fdca26"
             ],
             [
              1,
              "#f0f921"
             ]
            ],
            "type": "surface"
           }
          ],
          "table": [
           {
            "cells": {
             "fill": {
              "color": "#EBF0F8"
             },
             "line": {
              "color": "white"
             }
            },
            "header": {
             "fill": {
              "color": "#C8D4E3"
             },
             "line": {
              "color": "white"
             }
            },
            "type": "table"
           }
          ]
         },
         "layout": {
          "annotationdefaults": {
           "arrowcolor": "#2a3f5f",
           "arrowhead": 0,
           "arrowwidth": 1
          },
          "autotypenumbers": "strict",
          "coloraxis": {
           "colorbar": {
            "outlinewidth": 0,
            "ticks": ""
           }
          },
          "colorscale": {
           "diverging": [
            [
             0,
             "#8e0152"
            ],
            [
             0.1,
             "#c51b7d"
            ],
            [
             0.2,
             "#de77ae"
            ],
            [
             0.3,
             "#f1b6da"
            ],
            [
             0.4,
             "#fde0ef"
            ],
            [
             0.5,
             "#f7f7f7"
            ],
            [
             0.6,
             "#e6f5d0"
            ],
            [
             0.7,
             "#b8e186"
            ],
            [
             0.8,
             "#7fbc41"
            ],
            [
             0.9,
             "#4d9221"
            ],
            [
             1,
             "#276419"
            ]
           ],
           "sequential": [
            [
             0,
             "#0d0887"
            ],
            [
             0.1111111111111111,
             "#46039f"
            ],
            [
             0.2222222222222222,
             "#7201a8"
            ],
            [
             0.3333333333333333,
             "#9c179e"
            ],
            [
             0.4444444444444444,
             "#bd3786"
            ],
            [
             0.5555555555555556,
             "#d8576b"
            ],
            [
             0.6666666666666666,
             "#ed7953"
            ],
            [
             0.7777777777777778,
             "#fb9f3a"
            ],
            [
             0.8888888888888888,
             "#fdca26"
            ],
            [
             1,
             "#f0f921"
            ]
           ],
           "sequentialminus": [
            [
             0,
             "#0d0887"
            ],
            [
             0.1111111111111111,
             "#46039f"
            ],
            [
             0.2222222222222222,
             "#7201a8"
            ],
            [
             0.3333333333333333,
             "#9c179e"
            ],
            [
             0.4444444444444444,
             "#bd3786"
            ],
            [
             0.5555555555555556,
             "#d8576b"
            ],
            [
             0.6666666666666666,
             "#ed7953"
            ],
            [
             0.7777777777777778,
             "#fb9f3a"
            ],
            [
             0.8888888888888888,
             "#fdca26"
            ],
            [
             1,
             "#f0f921"
            ]
           ]
          },
          "colorway": [
           "#636efa",
           "#EF553B",
           "#00cc96",
           "#ab63fa",
           "#FFA15A",
           "#19d3f3",
           "#FF6692",
           "#B6E880",
           "#FF97FF",
           "#FECB52"
          ],
          "font": {
           "color": "#2a3f5f"
          },
          "geo": {
           "bgcolor": "white",
           "lakecolor": "white",
           "landcolor": "#E5ECF6",
           "showlakes": true,
           "showland": true,
           "subunitcolor": "white"
          },
          "hoverlabel": {
           "align": "left"
          },
          "hovermode": "closest",
          "mapbox": {
           "style": "light"
          },
          "paper_bgcolor": "white",
          "plot_bgcolor": "#E5ECF6",
          "polar": {
           "angularaxis": {
            "gridcolor": "white",
            "linecolor": "white",
            "ticks": ""
           },
           "bgcolor": "#E5ECF6",
           "radialaxis": {
            "gridcolor": "white",
            "linecolor": "white",
            "ticks": ""
           }
          },
          "scene": {
           "xaxis": {
            "backgroundcolor": "#E5ECF6",
            "gridcolor": "white",
            "gridwidth": 2,
            "linecolor": "white",
            "showbackground": true,
            "ticks": "",
            "zerolinecolor": "white"
           },
           "yaxis": {
            "backgroundcolor": "#E5ECF6",
            "gridcolor": "white",
            "gridwidth": 2,
            "linecolor": "white",
            "showbackground": true,
            "ticks": "",
            "zerolinecolor": "white"
           },
           "zaxis": {
            "backgroundcolor": "#E5ECF6",
            "gridcolor": "white",
            "gridwidth": 2,
            "linecolor": "white",
            "showbackground": true,
            "ticks": "",
            "zerolinecolor": "white"
           }
          },
          "shapedefaults": {
           "line": {
            "color": "#2a3f5f"
           }
          },
          "ternary": {
           "aaxis": {
            "gridcolor": "white",
            "linecolor": "white",
            "ticks": ""
           },
           "baxis": {
            "gridcolor": "white",
            "linecolor": "white",
            "ticks": ""
           },
           "bgcolor": "#E5ECF6",
           "caxis": {
            "gridcolor": "white",
            "linecolor": "white",
            "ticks": ""
           }
          },
          "title": {
           "x": 0.05
          },
          "xaxis": {
           "automargin": true,
           "gridcolor": "white",
           "linecolor": "white",
           "ticks": "",
           "title": {
            "standoff": 15
           },
           "zerolinecolor": "white",
           "zerolinewidth": 2
          },
          "yaxis": {
           "automargin": true,
           "gridcolor": "white",
           "linecolor": "white",
           "ticks": "",
           "title": {
            "standoff": 15
           },
           "zerolinecolor": "white",
           "zerolinewidth": 2
          }
         }
        },
        "title": {
         "text": "Evolução do IPCA"
        },
        "xaxis": {
         "anchor": "y",
         "domain": [
          0,
          1
         ],
         "title": {
          "text": "Data"
         }
        },
        "yaxis": {
         "anchor": "x",
         "domain": [
          0,
          1
         ],
         "title": {
          "text": "IPCA"
         }
        }
       }
      }
     },
     "metadata": {},
     "output_type": "display_data"
    }
   ],
   "source": [
    "fig = px.line(dados_ipca, x='data', y='ipca', title='Evolução do IPCA',\n",
    "              labels={'data':'Data', 'ipca':'IPCA'},\n",
    "              )\n",
    "\n",
    "fig.show()"
   ]
  },
  {
   "cell_type": "code",
   "execution_count": 60,
   "metadata": {},
   "outputs": [
    {
     "data": {
      "text/html": [
       "<div>\n",
       "<style scoped>\n",
       "    .dataframe tbody tr th:only-of-type {\n",
       "        vertical-align: middle;\n",
       "    }\n",
       "\n",
       "    .dataframe tbody tr th {\n",
       "        vertical-align: top;\n",
       "    }\n",
       "\n",
       "    .dataframe thead th {\n",
       "        text-align: right;\n",
       "    }\n",
       "</style>\n",
       "<table border=\"1\" class=\"dataframe\">\n",
       "  <thead>\n",
       "    <tr style=\"text-align: right;\">\n",
       "      <th></th>\n",
       "      <th>NC</th>\n",
       "      <th>NN</th>\n",
       "      <th>MC</th>\n",
       "      <th>MN</th>\n",
       "      <th>desemprego</th>\n",
       "      <th>D1C</th>\n",
       "      <th>D1N</th>\n",
       "      <th>D2C</th>\n",
       "      <th>D2N</th>\n",
       "      <th>data</th>\n",
       "      <th>D3N</th>\n",
       "    </tr>\n",
       "  </thead>\n",
       "  <tbody>\n",
       "    <tr>\n",
       "      <th>1</th>\n",
       "      <td>1</td>\n",
       "      <td>Brasil</td>\n",
       "      <td>2</td>\n",
       "      <td>%</td>\n",
       "      <td>8.0</td>\n",
       "      <td>1</td>\n",
       "      <td>Brasil</td>\n",
       "      <td>4099</td>\n",
       "      <td>Taxa de desocupação, na semana de referência, ...</td>\n",
       "      <td>201203</td>\n",
       "      <td>jan-fev-mar 2012</td>\n",
       "    </tr>\n",
       "    <tr>\n",
       "      <th>2</th>\n",
       "      <td>1</td>\n",
       "      <td>Brasil</td>\n",
       "      <td>2</td>\n",
       "      <td>%</td>\n",
       "      <td>7.8</td>\n",
       "      <td>1</td>\n",
       "      <td>Brasil</td>\n",
       "      <td>4099</td>\n",
       "      <td>Taxa de desocupação, na semana de referência, ...</td>\n",
       "      <td>201204</td>\n",
       "      <td>fev-mar-abr 2012</td>\n",
       "    </tr>\n",
       "    <tr>\n",
       "      <th>3</th>\n",
       "      <td>1</td>\n",
       "      <td>Brasil</td>\n",
       "      <td>2</td>\n",
       "      <td>%</td>\n",
       "      <td>7.7</td>\n",
       "      <td>1</td>\n",
       "      <td>Brasil</td>\n",
       "      <td>4099</td>\n",
       "      <td>Taxa de desocupação, na semana de referência, ...</td>\n",
       "      <td>201205</td>\n",
       "      <td>mar-abr-mai 2012</td>\n",
       "    </tr>\n",
       "    <tr>\n",
       "      <th>4</th>\n",
       "      <td>1</td>\n",
       "      <td>Brasil</td>\n",
       "      <td>2</td>\n",
       "      <td>%</td>\n",
       "      <td>7.6</td>\n",
       "      <td>1</td>\n",
       "      <td>Brasil</td>\n",
       "      <td>4099</td>\n",
       "      <td>Taxa de desocupação, na semana de referência, ...</td>\n",
       "      <td>201206</td>\n",
       "      <td>abr-mai-jun 2012</td>\n",
       "    </tr>\n",
       "    <tr>\n",
       "      <th>5</th>\n",
       "      <td>1</td>\n",
       "      <td>Brasil</td>\n",
       "      <td>2</td>\n",
       "      <td>%</td>\n",
       "      <td>7.5</td>\n",
       "      <td>1</td>\n",
       "      <td>Brasil</td>\n",
       "      <td>4099</td>\n",
       "      <td>Taxa de desocupação, na semana de referência, ...</td>\n",
       "      <td>201207</td>\n",
       "      <td>mai-jun-jul 2012</td>\n",
       "    </tr>\n",
       "    <tr>\n",
       "      <th>...</th>\n",
       "      <td>...</td>\n",
       "      <td>...</td>\n",
       "      <td>...</td>\n",
       "      <td>...</td>\n",
       "      <td>...</td>\n",
       "      <td>...</td>\n",
       "      <td>...</td>\n",
       "      <td>...</td>\n",
       "      <td>...</td>\n",
       "      <td>...</td>\n",
       "      <td>...</td>\n",
       "    </tr>\n",
       "    <tr>\n",
       "      <th>147</th>\n",
       "      <td>1</td>\n",
       "      <td>Brasil</td>\n",
       "      <td>2</td>\n",
       "      <td>%</td>\n",
       "      <td>7.1</td>\n",
       "      <td>1</td>\n",
       "      <td>Brasil</td>\n",
       "      <td>4099</td>\n",
       "      <td>Taxa de desocupação, na semana de referência, ...</td>\n",
       "      <td>202405</td>\n",
       "      <td>mar-abr-mai 2024</td>\n",
       "    </tr>\n",
       "    <tr>\n",
       "      <th>148</th>\n",
       "      <td>1</td>\n",
       "      <td>Brasil</td>\n",
       "      <td>2</td>\n",
       "      <td>%</td>\n",
       "      <td>6.9</td>\n",
       "      <td>1</td>\n",
       "      <td>Brasil</td>\n",
       "      <td>4099</td>\n",
       "      <td>Taxa de desocupação, na semana de referência, ...</td>\n",
       "      <td>202406</td>\n",
       "      <td>abr-mai-jun 2024</td>\n",
       "    </tr>\n",
       "    <tr>\n",
       "      <th>149</th>\n",
       "      <td>1</td>\n",
       "      <td>Brasil</td>\n",
       "      <td>2</td>\n",
       "      <td>%</td>\n",
       "      <td>6.8</td>\n",
       "      <td>1</td>\n",
       "      <td>Brasil</td>\n",
       "      <td>4099</td>\n",
       "      <td>Taxa de desocupação, na semana de referência, ...</td>\n",
       "      <td>202407</td>\n",
       "      <td>mai-jun-jul 2024</td>\n",
       "    </tr>\n",
       "    <tr>\n",
       "      <th>150</th>\n",
       "      <td>1</td>\n",
       "      <td>Brasil</td>\n",
       "      <td>2</td>\n",
       "      <td>%</td>\n",
       "      <td>6.6</td>\n",
       "      <td>1</td>\n",
       "      <td>Brasil</td>\n",
       "      <td>4099</td>\n",
       "      <td>Taxa de desocupação, na semana de referência, ...</td>\n",
       "      <td>202408</td>\n",
       "      <td>jun-jul-ago 2024</td>\n",
       "    </tr>\n",
       "    <tr>\n",
       "      <th>151</th>\n",
       "      <td>1</td>\n",
       "      <td>Brasil</td>\n",
       "      <td>2</td>\n",
       "      <td>%</td>\n",
       "      <td>6.4</td>\n",
       "      <td>1</td>\n",
       "      <td>Brasil</td>\n",
       "      <td>4099</td>\n",
       "      <td>Taxa de desocupação, na semana de referência, ...</td>\n",
       "      <td>202409</td>\n",
       "      <td>jul-ago-set 2024</td>\n",
       "    </tr>\n",
       "  </tbody>\n",
       "</table>\n",
       "<p>151 rows × 11 columns</p>\n",
       "</div>"
      ],
      "text/plain": [
       "    NC      NN MC MN desemprego D1C     D1N   D2C  \\\n",
       "1    1  Brasil  2  %        8.0   1  Brasil  4099   \n",
       "2    1  Brasil  2  %        7.8   1  Brasil  4099   \n",
       "3    1  Brasil  2  %        7.7   1  Brasil  4099   \n",
       "4    1  Brasil  2  %        7.6   1  Brasil  4099   \n",
       "5    1  Brasil  2  %        7.5   1  Brasil  4099   \n",
       "..  ..     ... .. ..        ...  ..     ...   ...   \n",
       "147  1  Brasil  2  %        7.1   1  Brasil  4099   \n",
       "148  1  Brasil  2  %        6.9   1  Brasil  4099   \n",
       "149  1  Brasil  2  %        6.8   1  Brasil  4099   \n",
       "150  1  Brasil  2  %        6.6   1  Brasil  4099   \n",
       "151  1  Brasil  2  %        6.4   1  Brasil  4099   \n",
       "\n",
       "                                                   D2N    data  \\\n",
       "1    Taxa de desocupação, na semana de referência, ...  201203   \n",
       "2    Taxa de desocupação, na semana de referência, ...  201204   \n",
       "3    Taxa de desocupação, na semana de referência, ...  201205   \n",
       "4    Taxa de desocupação, na semana de referência, ...  201206   \n",
       "5    Taxa de desocupação, na semana de referência, ...  201207   \n",
       "..                                                 ...     ...   \n",
       "147  Taxa de desocupação, na semana de referência, ...  202405   \n",
       "148  Taxa de desocupação, na semana de referência, ...  202406   \n",
       "149  Taxa de desocupação, na semana de referência, ...  202407   \n",
       "150  Taxa de desocupação, na semana de referência, ...  202408   \n",
       "151  Taxa de desocupação, na semana de referência, ...  202409   \n",
       "\n",
       "                  D3N  \n",
       "1    jan-fev-mar 2012  \n",
       "2    fev-mar-abr 2012  \n",
       "3    mar-abr-mai 2012  \n",
       "4    abr-mai-jun 2012  \n",
       "5    mai-jun-jul 2012  \n",
       "..                ...  \n",
       "147  mar-abr-mai 2024  \n",
       "148  abr-mai-jun 2024  \n",
       "149  mai-jun-jul 2024  \n",
       "150  jun-jul-ago 2024  \n",
       "151  jul-ago-set 2024  \n",
       "\n",
       "[151 rows x 11 columns]"
      ]
     },
     "execution_count": 60,
     "metadata": {},
     "output_type": "execute_result"
    }
   ],
   "source": [
    "desemprego=pd.read_json('https://apisidra.ibge.gov.br/values/t/6381/n1/all/v/4099/p/all/d/v4099%201')\n",
    "desemprego=desemprego.rename(columns={'V':'desemprego','D3C':'data'}).query('desemprego not in [\"Valor\",\"...\"]')\n",
    "desemprego"
   ]
  },
  {
   "cell_type": "code",
   "execution_count": 65,
   "metadata": {},
   "outputs": [
    {
     "data": {
      "text/html": [
       "<div>\n",
       "<style scoped>\n",
       "    .dataframe tbody tr th:only-of-type {\n",
       "        vertical-align: middle;\n",
       "    }\n",
       "\n",
       "    .dataframe tbody tr th {\n",
       "        vertical-align: top;\n",
       "    }\n",
       "\n",
       "    .dataframe thead th {\n",
       "        text-align: right;\n",
       "    }\n",
       "</style>\n",
       "<table border=\"1\" class=\"dataframe\">\n",
       "  <thead>\n",
       "    <tr style=\"text-align: right;\">\n",
       "      <th></th>\n",
       "      <th>desemprego</th>\n",
       "      <th>data</th>\n",
       "    </tr>\n",
       "  </thead>\n",
       "  <tbody>\n",
       "    <tr>\n",
       "      <th>1</th>\n",
       "      <td>8.0</td>\n",
       "      <td>2012-03-01</td>\n",
       "    </tr>\n",
       "    <tr>\n",
       "      <th>2</th>\n",
       "      <td>7.8</td>\n",
       "      <td>2012-04-01</td>\n",
       "    </tr>\n",
       "    <tr>\n",
       "      <th>3</th>\n",
       "      <td>7.7</td>\n",
       "      <td>2012-05-01</td>\n",
       "    </tr>\n",
       "    <tr>\n",
       "      <th>4</th>\n",
       "      <td>7.6</td>\n",
       "      <td>2012-06-01</td>\n",
       "    </tr>\n",
       "    <tr>\n",
       "      <th>5</th>\n",
       "      <td>7.5</td>\n",
       "      <td>2012-07-01</td>\n",
       "    </tr>\n",
       "    <tr>\n",
       "      <th>...</th>\n",
       "      <td>...</td>\n",
       "      <td>...</td>\n",
       "    </tr>\n",
       "    <tr>\n",
       "      <th>147</th>\n",
       "      <td>7.1</td>\n",
       "      <td>2024-05-01</td>\n",
       "    </tr>\n",
       "    <tr>\n",
       "      <th>148</th>\n",
       "      <td>6.9</td>\n",
       "      <td>2024-06-01</td>\n",
       "    </tr>\n",
       "    <tr>\n",
       "      <th>149</th>\n",
       "      <td>6.8</td>\n",
       "      <td>2024-07-01</td>\n",
       "    </tr>\n",
       "    <tr>\n",
       "      <th>150</th>\n",
       "      <td>6.6</td>\n",
       "      <td>2024-08-01</td>\n",
       "    </tr>\n",
       "    <tr>\n",
       "      <th>151</th>\n",
       "      <td>6.4</td>\n",
       "      <td>2024-09-01</td>\n",
       "    </tr>\n",
       "  </tbody>\n",
       "</table>\n",
       "<p>151 rows × 2 columns</p>\n",
       "</div>"
      ],
      "text/plain": [
       "     desemprego       data\n",
       "1           8.0 2012-03-01\n",
       "2           7.8 2012-04-01\n",
       "3           7.7 2012-05-01\n",
       "4           7.6 2012-06-01\n",
       "5           7.5 2012-07-01\n",
       "..          ...        ...\n",
       "147         7.1 2024-05-01\n",
       "148         6.9 2024-06-01\n",
       "149         6.8 2024-07-01\n",
       "150         6.6 2024-08-01\n",
       "151         6.4 2024-09-01\n",
       "\n",
       "[151 rows x 2 columns]"
      ]
     },
     "execution_count": 65,
     "metadata": {},
     "output_type": "execute_result"
    }
   ],
   "source": [
    "desemprego=desemprego[['desemprego','data']]\n",
    "desemprego['data']=pd.to_datetime(desemprego['data'],format='%Y%m')\n",
    "desemprego['desemprego']=desemprego['desemprego'].astype(float)\n",
    "desemprego=desemprego.query('data >= @pd.to_datetime(\"2004-01-01\")').copy()\n",
    "desemprego"
   ]
  },
  {
   "cell_type": "code",
   "execution_count": 68,
   "metadata": {},
   "outputs": [],
   "source": [
    "df=dados_ipca.set_index('data').join(other=desemprego.set_index('data'),how='inner')"
   ]
  },
  {
   "cell_type": "code",
   "execution_count": 69,
   "metadata": {},
   "outputs": [
    {
     "data": {
      "text/html": [
       "<div>\n",
       "<style scoped>\n",
       "    .dataframe tbody tr th:only-of-type {\n",
       "        vertical-align: middle;\n",
       "    }\n",
       "\n",
       "    .dataframe tbody tr th {\n",
       "        vertical-align: top;\n",
       "    }\n",
       "\n",
       "    .dataframe thead th {\n",
       "        text-align: right;\n",
       "    }\n",
       "</style>\n",
       "<table border=\"1\" class=\"dataframe\">\n",
       "  <thead>\n",
       "    <tr style=\"text-align: right;\">\n",
       "      <th></th>\n",
       "      <th>ipca</th>\n",
       "      <th>desemprego</th>\n",
       "    </tr>\n",
       "    <tr>\n",
       "      <th>data</th>\n",
       "      <th></th>\n",
       "      <th></th>\n",
       "    </tr>\n",
       "  </thead>\n",
       "  <tbody>\n",
       "    <tr>\n",
       "      <th>2012-03-01</th>\n",
       "      <td>5.24</td>\n",
       "      <td>8.0</td>\n",
       "    </tr>\n",
       "    <tr>\n",
       "      <th>2012-04-01</th>\n",
       "      <td>5.10</td>\n",
       "      <td>7.8</td>\n",
       "    </tr>\n",
       "    <tr>\n",
       "      <th>2012-05-01</th>\n",
       "      <td>4.99</td>\n",
       "      <td>7.7</td>\n",
       "    </tr>\n",
       "    <tr>\n",
       "      <th>2012-06-01</th>\n",
       "      <td>4.92</td>\n",
       "      <td>7.6</td>\n",
       "    </tr>\n",
       "    <tr>\n",
       "      <th>2012-07-01</th>\n",
       "      <td>5.20</td>\n",
       "      <td>7.5</td>\n",
       "    </tr>\n",
       "    <tr>\n",
       "      <th>...</th>\n",
       "      <td>...</td>\n",
       "      <td>...</td>\n",
       "    </tr>\n",
       "    <tr>\n",
       "      <th>2024-05-01</th>\n",
       "      <td>3.93</td>\n",
       "      <td>7.1</td>\n",
       "    </tr>\n",
       "    <tr>\n",
       "      <th>2024-06-01</th>\n",
       "      <td>4.23</td>\n",
       "      <td>6.9</td>\n",
       "    </tr>\n",
       "    <tr>\n",
       "      <th>2024-07-01</th>\n",
       "      <td>4.50</td>\n",
       "      <td>6.8</td>\n",
       "    </tr>\n",
       "    <tr>\n",
       "      <th>2024-08-01</th>\n",
       "      <td>4.24</td>\n",
       "      <td>6.6</td>\n",
       "    </tr>\n",
       "    <tr>\n",
       "      <th>2024-09-01</th>\n",
       "      <td>4.42</td>\n",
       "      <td>6.4</td>\n",
       "    </tr>\n",
       "  </tbody>\n",
       "</table>\n",
       "<p>151 rows × 2 columns</p>\n",
       "</div>"
      ],
      "text/plain": [
       "            ipca  desemprego\n",
       "data                        \n",
       "2012-03-01  5.24         8.0\n",
       "2012-04-01  5.10         7.8\n",
       "2012-05-01  4.99         7.7\n",
       "2012-06-01  4.92         7.6\n",
       "2012-07-01  5.20         7.5\n",
       "...          ...         ...\n",
       "2024-05-01  3.93         7.1\n",
       "2024-06-01  4.23         6.9\n",
       "2024-07-01  4.50         6.8\n",
       "2024-08-01  4.24         6.6\n",
       "2024-09-01  4.42         6.4\n",
       "\n",
       "[151 rows x 2 columns]"
      ]
     },
     "execution_count": 69,
     "metadata": {},
     "output_type": "execute_result"
    }
   ],
   "source": [
    "df"
   ]
  },
  {
   "cell_type": "code",
   "execution_count": 74,
   "metadata": {},
   "outputs": [
    {
     "data": {
      "image/png": "[encoded data removed]"
     },
     "metadata": {
      "image/png": {
       "height": 480,
       "width": 640
      }
     },
     "output_type": "display_data"
    }
   ],
   "source": [
    "(plot.ggplot(df)+\n",
    "plot.aes(x='desemprego',y='ipca')+\n",
    "plot.geom_point())\n",
    "    \n",
    "    \n"
   ]
  },
  {
   "cell_type": "code",
   "execution_count": null,
   "metadata": {},
   "outputs": [],
   "source": [
    "modelo=smf.ols('ipca ~ desemprego',data=df).fit()\n"
   ]
  },
  {
   "cell_type": "code",
   "execution_count": 82,
   "metadata": {},
   "outputs": [
    {
     "name": "stdout",
     "output_type": "stream",
     "text": [
      "                            OLS Regression Results                            \n",
      "==============================================================================\n",
      "Dep. Variable:                   ipca   R-squared:                       0.034\n",
      "Model:                            OLS   Adj. R-squared:                  0.027\n",
      "Method:                 Least Squares   F-statistic:                     5.175\n",
      "Date:                qua, 27 nov 2024   Prob (F-statistic):             0.0243\n",
      "Time:                        08:36:20   Log-Likelihood:                -350.05\n",
      "No. Observations:                 151   AIC:                             704.1\n",
      "Df Residuals:                     149   BIC:                             710.1\n",
      "Df Model:                           1                                         \n",
      "Covariance Type:            nonrobust                                         \n",
      "==============================================================================\n",
      "                 coef    std err          t      P>|t|      [0.025      0.975]\n",
      "------------------------------------------------------------------------------\n",
      "Intercept      7.6615      0.802      9.551      0.000       6.076       9.247\n",
      "desemprego    -0.1745      0.077     -2.275      0.024      -0.326      -0.023\n",
      "==============================================================================\n",
      "Omnibus:                       16.535   Durbin-Watson:                   0.042\n",
      "Prob(Omnibus):                  0.000   Jarque-Bera (JB):               19.159\n",
      "Skew:                           0.852   Prob(JB):                     6.91e-05\n",
      "Kurtosis:                       2.621   Cond. No.                         42.0\n",
      "==============================================================================\n",
      "\n",
      "Notes:\n",
      "[1] Standard Errors assume that the covariance matrix of the errors is correctly specified.\n"
     ]
    }
   ],
   "source": [
    "print(modelo.summary())"
   ]
  },
  {
   "cell_type": "code",
   "execution_count": 86,
   "metadata": {},
   "outputs": [
    {
     "data": {
      "image/png": "[encoded data removed]"
     },
     "metadata": {
      "image/png": {
       "height": 480,
       "width": 640
      }
     },
     "output_type": "display_data"
    }
   ],
   "source": [
    "(plot.ggplot(df)+\n",
    "plot.aes(x='desemprego',y='ipca')+\n",
    "plot.geom_point()+\n",
    "plot.geom_smooth(method='lm'))\n"
   ]
  }
 ],
 "metadata": {
  "kernelspec": {
   "display_name": "venv",
   "language": "python",
   "name": "python3"
  },
  "language_info": {
   "codemirror_mode": {
    "name": "ipython",
    "version": 3
   },
   "file_extension": ".py",
   "mimetype": "text/x-python",
   "name": "python",
   "nbconvert_exporter": "python",
   "pygments_lexer": "ipython3",
   "version": "3.12.3"
  }
 },
 "nbformat": 4,
 "nbformat_minor": 2
}
