{
 "cells": [
  {
   "cell_type": "code",
   "execution_count": 1,
   "metadata": {},
   "outputs": [],
   "source": [
    "import pandas as pd"
   ]
  },
  {
   "cell_type": "code",
   "execution_count": 14,
   "metadata": {},
   "outputs": [],
   "source": [
    "dados=pd.DataFrame(\n",
    "    {'colunaA':['Ambev3','Ambev4','Ambev4','Ambev3'],\n",
    "     'colunaB':['Ambev3','Ambev4','Ambev4','Ambev3'],\n",
    "     'colunaC':['Ambev3','Ambev4','Ambev4','Ambev3'],\n",
    "     'colunaD':[1,2,3,4],\n",
    "     'colunaE':[1.1,2.2,3.3,4.4],\n",
    "     'colunaF':['1','2','3','4']}\n",
    ")"
   ]
  },
  {
   "cell_type": "code",
   "execution_count": 28,
   "metadata": {},
   "outputs": [
    {
     "data": {
      "text/html": [
       "<div>\n",
       "<style scoped>\n",
       "    .dataframe tbody tr th:only-of-type {\n",
       "        vertical-align: middle;\n",
       "    }\n",
       "\n",
       "    .dataframe tbody tr th {\n",
       "        vertical-align: top;\n",
       "    }\n",
       "\n",
       "    .dataframe thead th {\n",
       "        text-align: right;\n",
       "    }\n",
       "</style>\n",
       "<table border=\"1\" class=\"dataframe\">\n",
       "  <thead>\n",
       "    <tr style=\"text-align: right;\">\n",
       "      <th></th>\n",
       "      <th>colunaA</th>\n",
       "      <th>colunaB</th>\n",
       "      <th>colunaC</th>\n",
       "      <th>colunaD</th>\n",
       "      <th>colunaE</th>\n",
       "      <th>colunaF</th>\n",
       "      <th>nova_coluna</th>\n",
       "    </tr>\n",
       "  </thead>\n",
       "  <tbody>\n",
       "    <tr>\n",
       "      <th>0</th>\n",
       "      <td>Ambev3</td>\n",
       "      <td>Ambev3</td>\n",
       "      <td>Ambev3</td>\n",
       "      <td>1</td>\n",
       "      <td>1.1</td>\n",
       "      <td>1</td>\n",
       "      <td>True</td>\n",
       "    </tr>\n",
       "    <tr>\n",
       "      <th>1</th>\n",
       "      <td>Ambev4</td>\n",
       "      <td>Ambev4</td>\n",
       "      <td>Ambev4</td>\n",
       "      <td>2</td>\n",
       "      <td>2.2</td>\n",
       "      <td>2</td>\n",
       "      <td>True</td>\n",
       "    </tr>\n",
       "    <tr>\n",
       "      <th>2</th>\n",
       "      <td>Ambev4</td>\n",
       "      <td>Ambev4</td>\n",
       "      <td>Ambev4</td>\n",
       "      <td>3</td>\n",
       "      <td>3.3</td>\n",
       "      <td>3</td>\n",
       "      <td>True</td>\n",
       "    </tr>\n",
       "    <tr>\n",
       "      <th>3</th>\n",
       "      <td>Ambev3</td>\n",
       "      <td>Ambev3</td>\n",
       "      <td>Ambev3</td>\n",
       "      <td>4</td>\n",
       "      <td>4.4</td>\n",
       "      <td>4</td>\n",
       "      <td>True</td>\n",
       "    </tr>\n",
       "  </tbody>\n",
       "</table>\n",
       "</div>"
      ],
      "text/plain": [
       "  colunaA colunaB colunaC  colunaD  colunaE colunaF  nova_coluna\n",
       "0  Ambev3  Ambev3  Ambev3        1      1.1       1         True\n",
       "1  Ambev4  Ambev4  Ambev4        2      2.2       2         True\n",
       "2  Ambev4  Ambev4  Ambev4        3      3.3       3         True\n",
       "3  Ambev3  Ambev3  Ambev3        4      4.4       4         True"
      ]
     },
     "execution_count": 28,
     "metadata": {},
     "output_type": "execute_result"
    }
   ],
   "source": [
    "dados"
   ]
  },
  {
   "cell_type": "code",
   "execution_count": 38,
   "metadata": {},
   "outputs": [
    {
     "name": "stdout",
     "output_type": "stream",
     "text": [
      "0    True\n",
      "1    True\n",
      "2    True\n",
      "3    True\n",
      "dtype: bool\n"
     ]
    }
   ],
   "source": [
    "resultado = (dados['colunaB'] == dados['colunaC']) & (dados['colunaB'] == dados['colunaA'])\n",
    "print(resultado)"
   ]
  },
  {
   "cell_type": "code",
   "execution_count": 16,
   "metadata": {},
   "outputs": [
    {
     "name": "stdout",
     "output_type": "stream",
     "text": [
      "<class 'pandas.core.frame.DataFrame'>\n",
      "RangeIndex: 4 entries, 0 to 3\n",
      "Data columns (total 7 columns):\n",
      " #   Column       Non-Null Count  Dtype  \n",
      "---  ------       --------------  -----  \n",
      " 0   colunaA      4 non-null      object \n",
      " 1   colunaB      4 non-null      object \n",
      " 2   colunaC      4 non-null      object \n",
      " 3   colunaD      4 non-null      int64  \n",
      " 4   colunaE      4 non-null      float64\n",
      " 5   colunaF      4 non-null      object \n",
      " 6   nova_coluna  4 non-null      bool   \n",
      "dtypes: bool(1), float64(1), int64(1), object(4)\n",
      "memory usage: 328.0+ bytes\n",
      "None\n"
     ]
    }
   ],
   "source": [
    "dados['nova_coluna'] = dados['colunaA'].str.startswith('A')\n",
    "\n",
    "print(dados.info())"
   ]
  },
  {
   "cell_type": "code",
   "execution_count": 17,
   "metadata": {},
   "outputs": [
    {
     "data": {
      "text/plain": [
       "DatetimeIndex(['2024-01-01', '2024-01-02', '2024-01-03', '2024-01-04',\n",
       "               '2024-01-05'],\n",
       "              dtype='datetime64[ns]', freq='D')"
      ]
     },
     "execution_count": 17,
     "metadata": {},
     "output_type": "execute_result"
    }
   ],
   "source": [
    "dates=pd.date_range('2024-01-01',periods=5)\n",
    "dates"
   ]
  },
  {
   "cell_type": "code",
   "execution_count": 42,
   "metadata": {},
   "outputs": [
    {
     "data": {
      "text/html": [
       "<div>\n",
       "<style scoped>\n",
       "    .dataframe tbody tr th:only-of-type {\n",
       "        vertical-align: middle;\n",
       "    }\n",
       "\n",
       "    .dataframe tbody tr th {\n",
       "        vertical-align: top;\n",
       "    }\n",
       "\n",
       "    .dataframe thead th {\n",
       "        text-align: right;\n",
       "    }\n",
       "</style>\n",
       "<table border=\"1\" class=\"dataframe\">\n",
       "  <thead>\n",
       "    <tr style=\"text-align: right;\">\n",
       "      <th></th>\n",
       "      <th>colunaA</th>\n",
       "      <th>colunaB</th>\n",
       "    </tr>\n",
       "  </thead>\n",
       "  <tbody>\n",
       "    <tr>\n",
       "      <th>0</th>\n",
       "      <td>Ambev3</td>\n",
       "      <td>Ambev3</td>\n",
       "    </tr>\n",
       "    <tr>\n",
       "      <th>1</th>\n",
       "      <td>Ambev4</td>\n",
       "      <td>Ambev4</td>\n",
       "    </tr>\n",
       "    <tr>\n",
       "      <th>2</th>\n",
       "      <td>Ambev4</td>\n",
       "      <td>Ambev4</td>\n",
       "    </tr>\n",
       "    <tr>\n",
       "      <th>3</th>\n",
       "      <td>Ambev3</td>\n",
       "      <td>Ambev3</td>\n",
       "    </tr>\n",
       "  </tbody>\n",
       "</table>\n",
       "</div>"
      ],
      "text/plain": [
       "  colunaA colunaB\n",
       "0  Ambev3  Ambev3\n",
       "1  Ambev4  Ambev4\n",
       "2  Ambev4  Ambev4\n",
       "3  Ambev3  Ambev3"
      ]
     },
     "execution_count": 42,
     "metadata": {},
     "output_type": "execute_result"
    }
   ],
   "source": [
    "dados[['colunaA','colunaB']]"
   ]
  }
 ],
 "metadata": {
  "kernelspec": {
   "display_name": "venv",
   "language": "python",
   "name": "python3"
  },
  "language_info": {
   "codemirror_mode": {
    "name": "ipython",
    "version": 3
   },
   "file_extension": ".py",
   "mimetype": "text/x-python",
   "name": "python",
   "nbconvert_exporter": "python",
   "pygments_lexer": "ipython3",
   "version": "3.12.3"
  }
 },
 "nbformat": 4,
 "nbformat_minor": 2
}
